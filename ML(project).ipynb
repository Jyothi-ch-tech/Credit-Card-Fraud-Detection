{
  "nbformat": 4,
  "nbformat_minor": 0,
  "metadata": {
    "colab": {
      "provenance": []
    },
    "kernelspec": {
      "name": "python3",
      "display_name": "Python 3"
    },
    "language_info": {
      "name": "python"
    }
  },
  "cells": [
    {
      "cell_type": "markdown",
      "source": [
        "# ***Credit Card Fraud Detection using ML***"
      ],
      "metadata": {
        "id": "WA6vMzBphCkQ"
      }
    },
    {
      "cell_type": "markdown",
      "source": [
        "\n",
        "\n",
        "1.  Import Libraries\n"
      ],
      "metadata": {
        "id": "G4w5lj1JhZ4X"
      }
    },
    {
      "cell_type": "code",
      "execution_count": null,
      "metadata": {
        "id": "YQRaL0kcgyU5"
      },
      "outputs": [],
      "source": [
        "import pandas as pd\n",
        "import numpy as np\n",
        "import matplotlib.pyplot as plt\n",
        "import seaborn as sns\n",
        "\n",
        "from sklearn.model_selection import train_test_split\n",
        "from sklearn.preprocessing import StandardScaler\n",
        "from sklearn.linear_model import LogisticRegression\n",
        "from sklearn.ensemble import RandomForestClassifier\n",
        "from sklearn.metrics import classification_report, confusion_matrix, roc_auc_score\n",
        "from imblearn.over_sampling import SMOTE"
      ]
    },
    {
      "cell_type": "markdown",
      "source": [
        "2. Load Dataset"
      ],
      "metadata": {
        "id": "kXMDoUxyiU4k"
      }
    },
    {
      "cell_type": "code",
      "source": [
        "df=pd.read_csv('/content/creditcard.csv')"
      ],
      "metadata": {
        "id": "DjUFiYCog_9k"
      },
      "execution_count": null,
      "outputs": []
    },
    {
      "cell_type": "code",
      "source": [
        "# Drop missing values if any\n",
        "df.dropna(inplace=True)"
      ],
      "metadata": {
        "id": "IU11aLRkiBhm"
      },
      "execution_count": null,
      "outputs": []
    },
    {
      "cell_type": "code",
      "source": [
        "#Check for nulls\n",
        "print(df.isnull().sum())"
      ],
      "metadata": {
        "colab": {
          "base_uri": "https://localhost:8080/"
        },
        "collapsed": true,
        "id": "Ou2ITAUTiDWQ",
        "outputId": "73315412-10f1-4332-8907-84048f119bb0"
      },
      "execution_count": null,
      "outputs": [
        {
          "output_type": "stream",
          "name": "stdout",
          "text": [
            "Time      0\n",
            "V1        0\n",
            "V2        0\n",
            "V3        0\n",
            "V4        0\n",
            "V5        0\n",
            "V6        0\n",
            "V7        0\n",
            "V8        0\n",
            "V9        0\n",
            "V10       0\n",
            "V11       0\n",
            "V12       0\n",
            "V13       0\n",
            "V14       0\n",
            "V15       0\n",
            "V16       0\n",
            "V17       0\n",
            "V18       0\n",
            "V19       0\n",
            "V20       0\n",
            "V21       0\n",
            "V22       0\n",
            "V23       0\n",
            "V24       0\n",
            "V25       0\n",
            "V26       0\n",
            "V27       0\n",
            "V28       0\n",
            "Amount    0\n",
            "Class     0\n",
            "dtype: int64\n"
          ]
        }
      ]
    },
    {
      "cell_type": "code",
      "source": [
        "print(df.head())\n",
        "print(df['Class'].value_counts())"
      ],
      "metadata": {
        "colab": {
          "base_uri": "https://localhost:8080/"
        },
        "id": "s6x3gHIFiYsS",
        "outputId": "c95f4db4-8fbc-431d-bb82-5e99701c1d41"
      },
      "execution_count": null,
      "outputs": [
        {
          "output_type": "stream",
          "name": "stdout",
          "text": [
            "   Time        V1        V2        V3        V4        V5        V6        V7  \\\n",
            "0     0 -1.359807 -0.072781  2.536347  1.378155 -0.338321  0.462388  0.239599   \n",
            "1     0  1.191857  0.266151  0.166480  0.448154  0.060018 -0.082361 -0.078803   \n",
            "2     1 -1.358354 -1.340163  1.773209  0.379780 -0.503198  1.800499  0.791461   \n",
            "3     1 -0.966272 -0.185226  1.792993 -0.863291 -0.010309  1.247203  0.237609   \n",
            "4     2 -1.158233  0.877737  1.548718  0.403034 -0.407193  0.095921  0.592941   \n",
            "\n",
            "         V8        V9  ...       V21       V22       V23       V24       V25  \\\n",
            "0  0.098698  0.363787  ... -0.018307  0.277838 -0.110474  0.066928  0.128539   \n",
            "1  0.085102 -0.255425  ... -0.225775 -0.638672  0.101288 -0.339846  0.167170   \n",
            "2  0.247676 -1.514654  ...  0.247998  0.771679  0.909412 -0.689281 -0.327642   \n",
            "3  0.377436 -1.387024  ... -0.108300  0.005274 -0.190321 -1.175575  0.647376   \n",
            "4 -0.270533  0.817739  ... -0.009431  0.798278 -0.137458  0.141267 -0.206010   \n",
            "\n",
            "        V26       V27       V28  Amount  Class  \n",
            "0 -0.189115  0.133558 -0.021053  149.62    0.0  \n",
            "1  0.125895 -0.008983  0.014724    2.69    0.0  \n",
            "2 -0.139097 -0.055353 -0.059752  378.66    0.0  \n",
            "3 -0.221929  0.062723  0.061458  123.50    0.0  \n",
            "4  0.502292  0.219422  0.215153   69.99    0.0  \n",
            "\n",
            "[5 rows x 31 columns]\n",
            "Class\n",
            "0.0    114719\n",
            "1.0       242\n",
            "Name: count, dtype: int64\n"
          ]
        }
      ]
    },
    {
      "cell_type": "markdown",
      "source": [
        " 3.Preprocessing"
      ],
      "metadata": {
        "id": "9_56FWHCinKL"
      }
    },
    {
      "cell_type": "code",
      "source": [
        "# Standardize 'Amount' and drop 'Time' if present\n",
        "if 'Amount' in df.columns:\n",
        "    df['Amount'] = StandardScaler().fit_transform(df[['Amount']])\n",
        "if 'Time' in df.columns:\n",
        "    df.drop('Time', axis=1, inplace=True)\n",
        "\n",
        "# Features and target\n",
        "X = df.drop('Class', axis=1)\n",
        "y = df['Class']\n"
      ],
      "metadata": {
        "id": "rl43xZw4ik4t"
      },
      "execution_count": null,
      "outputs": []
    },
    {
      "cell_type": "markdown",
      "source": [
        "4. Train-Test Split"
      ],
      "metadata": {
        "id": "5OWMALEZjsXA"
      }
    },
    {
      "cell_type": "code",
      "source": [
        "X_train, X_test, y_train, y_test = train_test_split(X, y, test_size=0.2, stratify=y, random_state=42)\n"
      ],
      "metadata": {
        "id": "l_4QiRxRjr16"
      },
      "execution_count": null,
      "outputs": []
    },
    {
      "cell_type": "markdown",
      "source": [
        "5. Handle Imbalance with SMOTE"
      ],
      "metadata": {
        "id": "DCQwGLXvkXti"
      }
    },
    {
      "cell_type": "code",
      "source": [
        " #Handle Imbalanced Data using SMOTE\n",
        "sm = SMOTE(random_state=42)\n",
        "X_train_res, y_train_res = sm.fit_resample(X_train, y_train)\n"
      ],
      "metadata": {
        "id": "YJLdwyrukKHK"
      },
      "execution_count": null,
      "outputs": []
    },
    {
      "cell_type": "markdown",
      "source": [
        "6. Train ML Models"
      ],
      "metadata": {
        "id": "zec4fh8Kkea8"
      }
    },
    {
      "cell_type": "markdown",
      "source": [
        "Logistic Regression AND  Random Forest"
      ],
      "metadata": {
        "id": "68_7f-zJkxeF"
      }
    },
    {
      "cell_type": "code",
      "source": [
        "# Logistic Regression\n",
        "lr = LogisticRegression(max_iter=1000)\n",
        "lr.fit(X_train_res, y_train_res)\n",
        "y_pred_lr = lr.predict(X_test)\n",
        "\n",
        "# Random Forest (optimized)\n",
        "rf = RandomForestClassifier(n_estimators=50, max_depth=10, random_state=42)\n",
        "rf.fit(X_train_res[:20000], y_train_res[:20000])  # Speed up training\n",
        "y_pred_rf = rf.predict(X_test)\n"
      ],
      "metadata": {
        "id": "j54T52jKkbZg"
      },
      "execution_count": null,
      "outputs": []
    },
    {
      "cell_type": "markdown",
      "source": [
        "7. Evaluate Models"
      ],
      "metadata": {
        "id": "kkoNL3LClLkz"
      }
    },
    {
      "cell_type": "code",
      "source": [
        "def evaluate_model(y_true, y_pred, model_name):\n",
        "    print(f\"\\n {model_name} Results:\")\n",
        "    print(confusion_matrix(y_true, y_pred))\n",
        "    print(classification_report(y_true, y_pred))\n",
        "    print(\"ROC AUC Score:\", roc_auc_score(y_true, y_pred))"
      ],
      "metadata": {
        "id": "-tLeTOjGlN0K"
      },
      "execution_count": null,
      "outputs": []
    },
    {
      "cell_type": "code",
      "source": [
        "evaluate_model(y_test, y_pred_lr, \"Logistic Regression\")\n",
        "evaluate_model(y_test, y_pred_rf, \"Random Forest\")"
      ],
      "metadata": {
        "colab": {
          "base_uri": "https://localhost:8080/"
        },
        "id": "mQ4SoSDLnNtS",
        "outputId": "f14541e4-72bf-4ee8-98bc-c522facbc951"
      },
      "execution_count": null,
      "outputs": [
        {
          "output_type": "stream",
          "name": "stdout",
          "text": [
            "\n",
            " Logistic Regression Results:\n",
            "[[55355  1509]\n",
            " [    8    90]]\n",
            "              precision    recall  f1-score   support\n",
            "\n",
            "           0       1.00      0.97      0.99     56864\n",
            "           1       0.06      0.92      0.11        98\n",
            "\n",
            "    accuracy                           0.97     56962\n",
            "   macro avg       0.53      0.95      0.55     56962\n",
            "weighted avg       1.00      0.97      0.98     56962\n",
            "\n",
            "ROC AUC Score: 0.9459151731880147\n",
            "\n",
            " Random Forest Results:\n",
            "[[56854    10]\n",
            " [   26    72]]\n",
            "              precision    recall  f1-score   support\n",
            "\n",
            "           0       1.00      1.00      1.00     56864\n",
            "           1       0.88      0.73      0.80        98\n",
            "\n",
            "    accuracy                           1.00     56962\n",
            "   macro avg       0.94      0.87      0.90     56962\n",
            "weighted avg       1.00      1.00      1.00     56962\n",
            "\n",
            "ROC AUC Score: 0.8672590096815316\n"
          ]
        }
      ]
    },
    {
      "cell_type": "markdown",
      "source": [
        "8. Visualize Confusion Matrix"
      ],
      "metadata": {
        "id": "dhM1nuOQlqVg"
      }
    },
    {
      "cell_type": "code",
      "source": [
        "sns.heatmap(confusion_matrix(y_test, y_pred_rf), annot=True, fmt='d', cmap='Blues')\n",
        "plt.title(\"Random Forest Confusion Matrix\")\n",
        "plt.xlabel(\"Predicted\")\n",
        "plt.ylabel(\"Actual\")\n",
        "plt.show()\n"
      ],
      "metadata": {
        "colab": {
          "base_uri": "https://localhost:8080/",
          "height": 472
        },
        "id": "byR2QHuSlmvU",
        "outputId": "088b318b-84d0-4a1f-b544-9ab1ccde2307"
      },
      "execution_count": null,
      "outputs": [
        {
          "output_type": "display_data",
          "data": {
            "text/plain": [
              "<Figure size 640x480 with 2 Axes>"
            ],
            "image/png": "[encoded data removed]"
          },
          "metadata": {}
        }
      ]
    },
    {
      "cell_type": "code",
      "source": [
        "# Simulate a new transaction (using any existing one)\n",
        "new_data = X.iloc[100].values.reshape(1, -1)\n",
        "# Predict using Logistic Regression\n",
        "lr_result = lr.predict(new_data)\n",
        "print(\"Logistic Regression:\", \"Fraud\" if lr_result[0] == 1 else \"Legit\")\n",
        "rf_result = rf.predict(new_data)\n",
        "print(\"Random Forest:\", \"Fraud\" if rf_result[0] == 1 else \"Legit\")"
      ],
      "metadata": {
        "colab": {
          "base_uri": "https://localhost:8080/"
        },
        "id": "zZwzaJ9GnwpQ",
        "outputId": "6337b9e1-d5e2-42da-bee4-24dee8e5f319"
      },
      "execution_count": null,
      "outputs": [
        {
          "output_type": "stream",
          "name": "stdout",
          "text": [
            "Logistic Regression: Legit\n",
            "Random Forest: Legit\n"
          ]
        },
        {
          "output_type": "stream",
          "name": "stderr",
          "text": [
            "/usr/local/lib/python3.11/dist-packages/sklearn/utils/validation.py:2739: UserWarning: X does not have valid feature names, but LogisticRegression was fitted with feature names\n",
            "  warnings.warn(\n",
            "/usr/local/lib/python3.11/dist-packages/sklearn/utils/validation.py:2739: UserWarning: X does not have valid feature names, but RandomForestClassifier was fitted with feature names\n",
            "  warnings.warn(\n"
          ]
        }
      ]
    },
    {
      "cell_type": "code",
      "source": [
        "# Manually create a new fraudulent transaction\n",
        "# Example: [Time, V1, V2, ..., V28, Amount]\n",
        "new_fraud_data = np.array([0, 1.2, 0.5, -1.1, 0.9, 0.6, 0.4, -1.2, 0.8, 0.7, 1.1, -0.6, 0.3, -0.5, 1.0, 0.4, -1.0, -0.3, 0.6, 0.1, 0.8, -0.7, -1.3, 0.9, 1.2, 0.5, 0.2, -0.4, 50.0])\n",
        "new_fraud_data = new_fraud_data.reshape(1, -1)\n",
        "# Predict with Logistic Regression\n",
        "lr_result = lr.predict(new_fraud_data)\n",
        "print(\"Logistic Regression:\", \"Fraud\" if lr_result[0] == 1 else \"Legit\")\n",
        "# Predict with Random Forest\n",
        "rf_result = rf.predict(new_fraud_data)\n",
        "print(\"Random Forest:\", \"Fraud\" if rf_result[0] == 1 else \"Legit\")\n"
      ],
      "metadata": {
        "colab": {
          "base_uri": "https://localhost:8080/"
        },
        "id": "76Ey3JLholWY",
        "outputId": "7a2662cc-cf1c-4104-cca1-84d4dbf5e859"
      },
      "execution_count": null,
      "outputs": [
        {
          "output_type": "stream",
          "name": "stdout",
          "text": [
            "Logistic Regression: Fraud\n",
            "Random Forest: Legit\n"
          ]
        },
        {
          "output_type": "stream",
          "name": "stderr",
          "text": [
            "/usr/local/lib/python3.11/dist-packages/sklearn/utils/validation.py:2739: UserWarning: X does not have valid feature names, but LogisticRegression was fitted with feature names\n",
            "  warnings.warn(\n",
            "/usr/local/lib/python3.11/dist-packages/sklearn/utils/validation.py:2739: UserWarning: X does not have valid feature names, but RandomForestClassifier was fitted with feature names\n",
            "  warnings.warn(\n"
          ]
        }
      ]
    },
    {
      "cell_type": "code",
      "source": [
        "from sklearn.metrics import roc_curve, auc\n",
        "import matplotlib.pyplot as plt\n",
        "\n",
        "# Predict probabilities\n",
        "lr_probs = lr.predict_proba(X_test)[:, 1]\n",
        "rf_probs = rf.predict_proba(X_test)[:, 1]\n",
        "\n",
        "# Compute ROC curve and AUC\n",
        "fpr_lr, tpr_lr, _ = roc_curve(y_test, lr_probs)\n",
        "roc_auc_lr = auc(fpr_lr, tpr_lr)\n",
        "\n",
        "fpr_rf, tpr_rf, _ = roc_curve(y_test, rf_probs)\n",
        "roc_auc_rf = auc(fpr_rf, tpr_rf)\n",
        "\n",
        "# Plot ROC curves\n",
        "plt.figure(figsize=(8, 6))\n",
        "plt.plot(fpr_lr, tpr_lr, label=f'Logistic Regression (AUC = {roc_auc_lr:.2f})')\n",
        "plt.plot(fpr_rf, tpr_rf, label=f'Random Forest (AUC = {roc_auc_rf:.2f})')\n",
        "plt.plot([0, 1], [0, 1], 'k--')  # Diagonal line\n",
        "plt.xlabel('False Positive Rate')\n",
        "plt.ylabel('True Positive Rate')\n",
        "plt.title('ROC-AUC Curve')\n",
        "plt.legend(loc='lower right')\n",
        "plt.grid(True)\n",
        "plt.show()"
      ],
      "metadata": {
        "colab": {
          "base_uri": "https://localhost:8080/",
          "height": 564
        },
        "id": "9_dx2fJQw28n",
        "outputId": "b0c7f91e-e4ba-4d1a-de0c-ad9a5cecb8a1"
      },
      "execution_count": null,
      "outputs": [
        {
          "output_type": "display_data",
          "data": {
            "text/plain": [
              "<Figure size 800x600 with 1 Axes>"
            ],
            "image/png": "[encoded data removed]"
          },
          "metadata": {}
        }
      ]
    },
    {
      "cell_type": "code",
      "source": [
        "from sklearn.metrics import accuracy_score, precision_score, recall_score, f1_score\n",
        "\n",
        "def print_metrics(y_true, y_pred, model_name):\n",
        "    print(f\"\\n {model_name} Metrics\")\n",
        "    print(f\"Accuracy : {accuracy_score(y_true, y_pred):.4f}\")\n",
        "    print(f\"Precision: {precision_score(y_true, y_pred):.4f}\")\n",
        "    print(f\"Recall   : {recall_score(y_true, y_pred):.4f}\")\n",
        "    print(f\"F1 Score : {f1_score(y_true, y_pred):.4f}\")\n",
        "\n",
        "# Predictions\n",
        "y_pred_lr = lr.predict(X_test)\n",
        "y_pred_rf = rf.predict(X_test)\n",
        "\n",
        "# Evaluate both models\n",
        "print_metrics(y_test, y_pred_lr, \"Logistic Regression\")\n",
        "print_metrics(y_test, y_pred_rf, \"Random Forest\")\n"
      ],
      "metadata": {
        "colab": {
          "base_uri": "https://localhost:8080/"
        },
        "id": "jy5F_1Uzw88O",
        "outputId": "9e6aad89-d8e0-46c7-a2fb-0f7508fe5144"
      },
      "execution_count": null,
      "outputs": [
        {
          "output_type": "stream",
          "name": "stdout",
          "text": [
            "\n",
            " Logistic Regression Metrics\n",
            "Accuracy : 0.9734\n",
            "Precision: 0.0563\n",
            "Recall   : 0.9184\n",
            "F1 Score : 0.1061\n",
            "\n",
            " Random Forest Metrics\n",
            "Accuracy : 0.9994\n",
            "Precision: 0.8780\n",
            "Recall   : 0.7347\n",
            "F1 Score : 0.8000\n"
          ]
        }
      ]
    }
  ]
}